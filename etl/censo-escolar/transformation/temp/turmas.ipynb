{
 "cells": [
  {
   "cell_type": "code",
   "execution_count": 1,
   "id": "ab0a8e0f-9d67-478a-a50d-57431cddd128",
   "metadata": {},
   "outputs": [],
   "source": [
    "import json\n",
    "import datetime\n",
    "from pyspark.sql import SparkSession\n",
    "from pyspark.sql.types import *\n",
    "from pyspark.sql.functions import (udf, col)\n",
    "\n",
    "from google.cloud import storage"
   ]
  },
  {
   "cell_type": "code",
   "execution_count": 68,
   "id": "db6a6a8e-9e08-4280-a60c-28b84a5638df",
   "metadata": {},
   "outputs": [],
   "source": [
    "BUCKET = \"rjr-portal-da-transparencia\"\n",
    "YEAR = 2020"
   ]
  },
  {
   "cell_type": "code",
   "execution_count": 69,
   "id": "49cb126a-2ada-4ea9-8360-7fe13aa97e00",
   "metadata": {},
   "outputs": [],
   "source": [
    "def load_json(name):\n",
    "    bucket = storage.Client().get_bucket(BUCKET)\n",
    "    blob = bucket.blob(f'aux_tables/{name}.json')\n",
    "    maps = json.loads(blob.download_as_string())\n",
    "    return maps\n",
    "\n",
    "def mapping(df, map_, column, type_return):\n",
    "    map_func = udf(lambda key: map_.get(str(key)), type_return())\n",
    "    df = df.withColumn(column, map_func(col(column)))\n",
    "    return df\n",
    "\n",
    "def string_to_date(df, column, year):\n",
    "    if year > 2014:\n",
    "        pattern = '%d/%m/%Y'\n",
    "    else:\n",
    "        pattern = \"%d%b%Y:%H:%M:%S\"\n",
    "    map_func =  udf (lambda date: datetime.strptime(date, pattern) \n",
    "                     if type(date) == str \n",
    "                     else None, DateType())\n",
    "    df = df.withColumn(column, map_func(col(column)))\n",
    "    return df"
   ]
  },
  {
   "cell_type": "code",
   "execution_count": 54,
   "id": "4e4ba580-b972-4064-b04c-e9d460cce479",
   "metadata": {},
   "outputs": [],
   "source": [
    "spark = SparkSession.builder.appName(\"censo\").getOrCreate()\n",
    "spark.conf.set(\"spark.sql.repl.eagerEval.enabled\", True)"
   ]
  },
  {
   "cell_type": "code",
   "execution_count": 76,
   "id": "9acfe7f3-774f-4983-ab6e-3a3049990070",
   "metadata": {},
   "outputs": [],
   "source": [
    "schema = load_json(\"turmas_schema\")\n",
    "try:\n",
    "    schema = StructType.fromJson(schema)\n",
    "except:\n",
    "    schema = StructType.fromJson(json.loads(schema))\n",
    "df = spark \\\n",
    "    .read \\\n",
    "    .options(header=True, delimiter=\"|\", encoding=\"utf8\") \\\n",
    "    .schema(schema=schema) \\\n",
    "    .csv(f\"gs://{BUCKET}/landing_zone/censo-escolar/{YEAR}/turmas.csv\" )"
   ]
  },
  {
   "cell_type": "code",
   "execution_count": 77,
   "id": "56b2c201-e983-496a-bc0f-6d576d3c88fa",
   "metadata": {},
   "outputs": [],
   "source": [
    "maps = load_json(\"turmas_maps\")\n",
    "string_columns = [column for column in df.columns \n",
    "                  if column.startswith(\"TP\") or column.startswith(\"CO\")]\n",
    "\n",
    "for column in string_columns:\n",
    "    if column in maps:\n",
    "        df = mapping(df, maps[column], column, StringType)"
   ]
  },
  {
   "cell_type": "code",
   "execution_count": 78,
   "id": "4944cc4c-8298-460c-84c6-f2ed55d8b468",
   "metadata": {},
   "outputs": [],
   "source": [
    "bool_columns = [column for column in df.columns \n",
    "                  if column.startswith(\"IN\")]\n",
    "\n",
    "mapping_bool = {\n",
    "    \"0\": False,\n",
    "    \"1\": True\n",
    "}\n",
    "\n",
    "for column in bool_columns:\n",
    "    df = mapping(df, mapping_bool, column, BooleanType)"
   ]
  },
  {
   "cell_type": "code",
   "execution_count": 79,
   "id": "94d15f97-4eb9-4475-afed-d8899a5a0886",
   "metadata": {},
   "outputs": [],
   "source": [
    "drops = [\n",
    "    \"CO_REGIAO\",\n",
    "    \"CO_MESORREGIAO\",\n",
    "    \"CO_MICRORREGIAO\",\n",
    "    \"CO_UF\",\n",
    "    \"CO_MUNICIPIO\",\n",
    "    \"CO_DISTRITO\",\n",
    "    \"TP_DEPENDENCIA\",\n",
    "    \"TP_LOCALIZACAO\",\n",
    "    \"TP_CATEGORIA_ESCOLA_PRIVADA\",\n",
    "    \"TP_CONVENIO_PODER_PUBLICO\",\n",
    "    \"TP_REGULAMENTACAO\",\n",
    "    \"TP_LOCALIZACAO_DIFERENCIADA\"\n",
    "]\n",
    "df = df.drop(*drops)"
   ]
  },
  {
   "cell_type": "code",
   "execution_count": 42,
   "id": "f6d7fcbd-6ec0-4eae-b5be-2196d61affa3",
   "metadata": {},
   "outputs": [
    {
     "name": "stderr",
     "output_type": "stream",
     "text": [
      "                                                                                \r"
     ]
    }
   ],
   "source": [
    "df.write.parquet(f\"gs://rjr-portal-da-transparencia/processing_zone/censo-escolar/{YEAR}/turmas.parquet\",\n",
    "                compression=\"snappy\")"
   ]
  },
  {
   "cell_type": "code",
   "execution_count": null,
   "id": "eeef0bac-52cf-47b3-9f5f-d44cbc53962e",
   "metadata": {},
   "outputs": [],
   "source": []
  }
 ],
 "metadata": {
  "kernelspec": {
   "display_name": "PySpark",
   "language": "python",
   "name": "pyspark"
  },
  "language_info": {
   "codemirror_mode": {
    "name": "ipython",
    "version": 3
   },
   "file_extension": ".py",
   "mimetype": "text/x-python",
   "name": "python",
   "nbconvert_exporter": "python",
   "pygments_lexer": "ipython3",
   "version": "3.8.10"
  }
 },
 "nbformat": 4,
 "nbformat_minor": 5
}