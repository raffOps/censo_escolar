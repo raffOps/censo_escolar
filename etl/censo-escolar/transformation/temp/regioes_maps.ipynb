{
 "cells": [
  {
   "cell_type": "code",
   "execution_count": 2,
   "id": "2e0ca26f-0d4f-4d9c-b44c-55821b835e29",
   "metadata": {},
   "outputs": [],
   "source": [
    "import pandas as pd\n",
    "import json\n",
    "from google.cloud import storage"
   ]
  },
  {
   "cell_type": "code",
   "execution_count": 18,
   "id": "a6855960-140b-4d5c-b9b0-0bf24ba9896d",
   "metadata": {},
   "outputs": [],
   "source": [
    "BUCKET = \"rjr-portal-da-transparencia\""
   ]
  },
  {
   "cell_type": "code",
   "execution_count": 19,
   "id": "8825384f-8f7c-4e31-989f-1809589abcad",
   "metadata": {},
   "outputs": [],
   "source": [
    "client = storage.Client()\n",
    "bucket = client.get_bucket(BUCKET)"
   ]
  },
  {
   "cell_type": "code",
   "execution_count": 20,
   "id": "147e1cf7-48a2-4e63-bde0-c468f4df5c98",
   "metadata": {},
   "outputs": [],
   "source": [
    "def save_maps(name, maps):\n",
    "    with open(f'{name}_maps.json', 'w', encoding='utf-8') as file:\n",
    "        json.dump(maps, file, ensure_ascii=False)\n",
    "\n",
    "    blob = bucket.blob(f\"aux_tables/{name}_maps.json\")\n",
    "    blob = blob.upload_from_filename(f'{name}_maps.json')"
   ]
  },
  {
   "cell_type": "code",
   "execution_count": 21,
   "id": "dd908a8b-10fe-4fa2-842f-6064bcfe0bd5",
   "metadata": {},
   "outputs": [],
   "source": [
    "df = pd.read_csv(f\"gs://{BUCKET}/aux_tables/ufs.csv\", \n",
    "                 engine=\"python\", sep=',', quotechar='\"', header=0, encoding=\"utf8\")\n",
    "maps = {}\n",
    "names = [\"CO_REGIAO\", \"CO_UF\", \"CO_MESORREGIAO\", \n",
    "        \"CO_MICRORREGIAO\", \"CO_MUNICIPIO\"]\n",
    "cols = [[0, 1], [2, 3], [2, 5, 6], [2, 7, 8], [9, 10]]\n",
    "names_cols = zip(names, cols)\n",
    "\n",
    "\n",
    "for name, cols_ in names_cols:\n",
    "    \n",
    "    df_ = df.iloc[:, cols_].drop_duplicates()\n",
    "    if len(cols_) == 2:\n",
    "        map_ = dict(df_.values.tolist())\n",
    "    elif name == \"CO_MESORREGIAO\":\n",
    "        map_ = {f\"{col1}{col2:02}\": col3\n",
    "                       for col1, col2, col3 \n",
    "                       in df_.values}\n",
    "    else:\n",
    "        map_ = {f\"{col1}{col2:03}\": col3\n",
    "                       for col1, col2, col3 \n",
    "                       in df_.values} \n",
    "    maps[name] = map_"
   ]
  },
  {
   "cell_type": "code",
   "execution_count": 22,
   "id": "11b59f8a-7d80-4222-9fe6-71c37a01f7ea",
   "metadata": {},
   "outputs": [],
   "source": [
    "maps[\"CO_UF_NASC\"] = maps[\"CO_UF\"] \n",
    "maps[\"CO_MUNICIPIO_NASC\"] = maps[\"CO_MUNICIPIO\"] \n",
    "maps[\"CO_UF_END\"] = maps[\"CO_UF\"] \n",
    "maps[\"CO_MUNICIPIO_END\"] = maps[\"CO_MUNICIPIO\"] "
   ]
  },
  {
   "cell_type": "code",
   "execution_count": 23,
   "id": "c9be0413-1eaf-4255-9f21-4be354d1c0d4",
   "metadata": {},
   "outputs": [],
   "source": [
    "pais_origem = pd.read_csv(f\"gs://{BUCKET}/aux_tables/CO_PAIS_ORIGEM.csv\", \n",
    "                 engine=\"python\", sep=',', quotechar='\"', header=0, encoding=\"utf8\")"
   ]
  },
  {
   "cell_type": "code",
   "execution_count": 24,
   "id": "b553f957-514e-430c-9697-7b27bf369263",
   "metadata": {},
   "outputs": [],
   "source": [
    "maps[\"CO_PAIS_ORIGEM\"] = dict(pais_origem.values.tolist())\n",
    "maps[\"CO_PAIS_RESIDENCIA\"] = maps[\"CO_PAIS_ORIGEM\"] "
   ]
  },
  {
   "cell_type": "code",
   "execution_count": 25,
   "id": "89018103-72d7-4e3f-945e-821da2ae55d0",
   "metadata": {},
   "outputs": [],
   "source": [
    "save_maps(\"regioes\", maps)"
   ]
  },
  {
   "cell_type": "code",
   "execution_count": null,
   "id": "a3da4af5-3669-43f5-95b9-fd6dcdf5dfee",
   "metadata": {},
   "outputs": [],
   "source": []
  }
 ],
 "metadata": {
  "kernelspec": {
   "display_name": "PySpark",
   "language": "python",
   "name": "pyspark"
  },
  "language_info": {
   "codemirror_mode": {
    "name": "ipython",
    "version": 3
   },
   "file_extension": ".py",
   "mimetype": "text/x-python",
   "name": "python",
   "nbconvert_exporter": "python",
   "pygments_lexer": "ipython3",
   "version": "3.8.10"
  }
 },
 "nbformat": 4,
 "nbformat_minor": 5
}