{
 "cells": [
  {
   "cell_type": "code",
   "execution_count": 1,
   "id": "cc4cf0a3-7c21-45ae-8adc-adc260c1180e",
   "metadata": {},
   "outputs": [],
   "source": [
    "import json\n",
    "from datetime import datetime\n",
    "import pandas as pd\n",
    "from google.cloud import storage"
   ]
  },
  {
   "cell_type": "code",
   "execution_count": 2,
   "id": "c25bc4e3-5883-4ef1-a06b-163483656d8a",
   "metadata": {},
   "outputs": [],
   "source": [
    "BUCKET = \"rjr-portal-da-transparencia\"\n",
    "client = storage.Client()\n",
    "bucket = client.get_bucket(BUCKET)"
   ]
  },
  {
   "cell_type": "code",
   "execution_count": 4,
   "id": "79a40c62-15ec-4a7b-8c97-6acbd244c877",
   "metadata": {},
   "outputs": [],
   "source": [
    "def save_maps(name, maps):\n",
    "    with open(f'{name}_maps.json', 'w', encoding='utf-8') as file:\n",
    "        json.dump(maps, file, ensure_ascii=False)\n",
    "\n",
    "    blob = bucket.blob(f\"aux_tables/{name}_maps.json\")\n",
    "    blob = blob.upload_from_filename(f'{name}_maps.json')"
   ]
  },
  {
   "cell_type": "code",
   "execution_count": 5,
   "id": "9ce774f6-f7b9-409d-aa54-48841840646a",
   "metadata": {},
   "outputs": [],
   "source": [
    "maps = {}\n",
    "maps[\"TP_SITUACAO_CURSO_1\"] = {\n",
    "    1: \"Concluído\",\n",
    "    2: \"Em andamento\"\n",
    "}\n",
    "\n",
    "maps[\"TP_SITUACAO_CURSO_3\"] = maps[\"TP_SITUACAO_CURSO_2\"] = maps[\"TP_SITUACAO_CURSO_1\"]\n"
   ]
  },
  {
   "cell_type": "code",
   "execution_count": 10,
   "id": "9ff0ac64-e74a-4ce2-bc43-ebf40bbf7ba4",
   "metadata": {},
   "outputs": [],
   "source": [
    "maps[\"CO_AREA_CURSO_1\"] = dict(pd.read_csv(f\"gs://{BUCKET}/aux_tables/CO_AREA_CURSO.csv\").dropna().values.tolist())\n",
    "maps[\"CO_AREA_CURSO_2\"] = maps[\"CO_AREA_CURSO_3\"] = maps[\"CO_AREA_CURSO_1\"]"
   ]
  },
  {
   "cell_type": "code",
   "execution_count": 11,
   "id": "9d4e8a8a-5d1a-47c4-9e7e-c31a18dae1cc",
   "metadata": {},
   "outputs": [],
   "source": [
    "maps[\"CO_CURSO_1\"] = dict(pd.read_csv(f\"gs://{BUCKET}/aux_tables/CO_CURSO.csv\").dropna().values.tolist())\n",
    "maps[\"CO_CURSO_2\"] = maps[\"CO_CURSO_3\"] = maps[\"CO_CURSO_1\"]"
   ]
  },
  {
   "cell_type": "code",
   "execution_count": 16,
   "id": "ac757df8-2c39-48d8-936a-f45c84e523ed",
   "metadata": {},
   "outputs": [],
   "source": [
    "maps[\"CO_IES_1\"] = dict(pd.read_csv(f\"gs://{BUCKET}/aux_tables/CO_IES.csv\").dropna().values.tolist())\n",
    "maps[\"CO_IES_2\"] = maps[\"CO_IES_3\"] = maps[\"CO_IES_1\"]"
   ]
  },
  {
   "cell_type": "code",
   "execution_count": 18,
   "id": "7e69e323-85da-47ed-8b54-5aaa930391ca",
   "metadata": {},
   "outputs": [],
   "source": [
    "maps[\"CO_CO_AREA_COMPL_PEDAGOGICA_1\"] = dict(pd.read_csv(f\"gs://{BUCKET}/aux_tables/CO_AREA_COMPL_PEDAGOGICA.csv\").dropna().values.tolist())\n",
    "maps[\"CO_CO_AREA_COMPL_PEDAGOGICA_2\"] = maps[\"CO_CO_AREA_COMPL_PEDAGOGICA_3\"] = maps[\"CO_CO_AREA_COMPL_PEDAGOGICA_1\"]"
   ]
  },
  {
   "cell_type": "code",
   "execution_count": 19,
   "id": "e7451443-0dba-4404-a983-0e1655dadc93",
   "metadata": {},
   "outputs": [
    {
     "data": {
      "text/plain": [
       "{6: 'Língua /Literatura Portuguesa ',\n",
       " 7: 'Língua /Literatura estrangeira - Inglês ',\n",
       " 8: 'Língua /Literatura estrangeira - Espanhol',\n",
       " 30: 'Língua/Literatura estrangeira - Francês',\n",
       " 9: 'Língua /Literatura estrangeira - outra',\n",
       " 27: 'Língua indígena',\n",
       " 23: 'Libras',\n",
       " 31: '  Língua Portuguesa como Segunda Língua',\n",
       " 10: 'Arte (Educação Artística, Teatro, Dança, Música, Artes Plásticas e outras)',\n",
       " 11: 'Educação Física',\n",
       " 3: 'Matemática',\n",
       " 1: 'Química',\n",
       " 2: 'Física',\n",
       " 4: 'Biologia',\n",
       " 5: 'Ciências',\n",
       " 12: 'História',\n",
       " 13: 'Geografia',\n",
       " 14: 'Filosofia',\n",
       " 28: 'Estudos Sociais',\n",
       " 29: 'Sociologia',\n",
       " 16: 'Informática/Computação',\n",
       " 17: 'Áreas do conhecimento profissionalizantes ',\n",
       " 25: 'Áreas do conhecimento pedagógicas ',\n",
       " 26: 'Ensino religioso'}"
      ]
     },
     "execution_count": 19,
     "metadata": {},
     "output_type": "execute_result"
    }
   ],
   "source": [
    "maps[\"CO_CO_AREA_COMPL_PEDAGOGICA_1\"]"
   ]
  },
  {
   "cell_type": "code",
   "execution_count": 15,
   "id": "eea26166-c60f-4fc6-a93e-1862d566503e",
   "metadata": {},
   "outputs": [],
   "source": [
    "maps[\"TP_TIPO_IES_1\"] = {\n",
    "    1: \"Pública\",\n",
    "    2: \"Privada\"\n",
    "}\n",
    "\n",
    "maps[\"TP_TIPO_IES_2\"] = maps[\"TP_TIPO_IES_3\"] = maps[\"TP_TIPO_IES_1\"]"
   ]
  },
  {
   "cell_type": "code",
   "execution_count": null,
   "id": "155c5030-a180-45f6-a309-c68c631f56b5",
   "metadata": {},
   "outputs": [],
   "source": []
  },
  {
   "cell_type": "code",
   "execution_count": null,
   "id": "79a34aab-eb72-4ffe-8594-db283ff55bad",
   "metadata": {},
   "outputs": [],
   "source": []
  }
 ],
 "metadata": {
  "kernelspec": {
   "display_name": "PySpark",
   "language": "python",
   "name": "pyspark"
  },
  "language_info": {
   "codemirror_mode": {
    "name": "ipython",
    "version": 3
   },
   "file_extension": ".py",
   "mimetype": "text/x-python",
   "name": "python",
   "nbconvert_exporter": "python",
   "pygments_lexer": "ipython3",
   "version": "3.8.10"
  }
 },
 "nbformat": 4,
 "nbformat_minor": 5
}