{
 "cells": [
  {
   "cell_type": "code",
   "execution_count": 2,
   "id": "4f1576a2-eb98-47db-9f21-06db51751102",
   "metadata": {},
   "outputs": [],
   "source": [
    "import json\n",
    "from datetime import datetime\n",
    "from pyspark.sql import SparkSession\n",
    "from pyspark.sql.types import *\n",
    "from pyspark.sql.functions import *\n",
    "\n",
    "from google.cloud import storage\n"
   ]
  },
  {
   "cell_type": "code",
   "execution_count": 3,
   "id": "e5b4aaec-f9f6-4515-9807-06470fdc9af1",
   "metadata": {},
   "outputs": [],
   "source": [
    "BUCKET = \"rjr-portal-da-transparencia\"\n",
    "YEAR = 2020"
   ]
  },
  {
   "cell_type": "code",
   "execution_count": 5,
   "id": "dbef5dcf-144b-420a-98b3-728d64fb6954",
   "metadata": {},
   "outputs": [],
   "source": [
    "def load_json(name):\n",
    "    bucket = storage.Client().get_bucket(BUCKET)\n",
    "    blob = bucket.blob(f'aux_tables/{name}.json')\n",
    "    maps = json.loads(blob.download_as_string())\n",
    "    return maps\n",
    "\n",
    "\n",
    "def mapping(df, map_, column, type_return):\n",
    "    map_func = udf(lambda key: map_.get(str(key)), type_return())\n",
    "    df = df.withColumn(column, map_func(col(column)))\n",
    "    return df\n",
    "\n",
    "def string_to_date(df, column, year):\n",
    "    if year > 2014:\n",
    "        pattern = '%d/%m/%Y'\n",
    "    else:\n",
    "        pattern = \"%d%b%Y:%H:%M:%S\"\n",
    "    map_func =  udf (lambda date: datetime.strptime(date, pattern) \n",
    "                     if type(date) == str \n",
    "                     else None, DateType())\n",
    "    df = df.withColumn(column, map_func(col(column)))\n",
    "    return df"
   ]
  },
  {
   "cell_type": "code",
   "execution_count": 40,
   "id": "d5e70158-aee6-4627-9f1d-5837af6c76ae",
   "metadata": {},
   "outputs": [],
   "source": [
    "spark = SparkSession.builder.appName(\"censo\").getOrCreate()\n",
    "spark.conf.set(\"spark.sql.repl.eagerEval.enabled\", True)\n",
    "\n",
    "# schema = load_json(\"matricula_schema\")\n",
    "# try:\n",
    "#     schema = StructType.fromJson(schema)\n",
    "# except:\n",
    "#     schema = StructType.fromJson(json.loads(schema))\n",
    "df = spark \\\n",
    "    .read \\\n",
    "    .options(header=True, delimiter=\"|\", encoding=\"utf8\") \\\n",
    "    .csv(f\"gs://{BUCKET}/landing_zone/censo-escolar/{YEAR}/gestor.csv\" )"
   ]
  },
  {
   "cell_type": "code",
   "execution_count": 33,
   "id": "58878b1e-b8c0-4188-a76f-e2ce86b2c879",
   "metadata": {},
   "outputs": [],
   "source": [
    "with open(\"docentes_schema.json\", \"w\") as file:\n",
    "    file.write(df.schema.json())"
   ]
  },
  {
   "cell_type": "code",
   "execution_count": 16,
   "id": "df64e26f-f06a-4a3e-b558-a08de0374159",
   "metadata": {},
   "outputs": [
    {
     "name": "stdout",
     "output_type": "stream",
     "text": [
      "CO_ENTIDADE\n",
      "CO_DISTRITO\n"
     ]
    }
   ],
   "source": [
    "maps = load_json(\"maps\")\n",
    "string_columns = [column for column in df.columns \n",
    "                  if column.startswith(\"TP\") or column.startswith(\"CO\")]\n",
    "\n",
    "for column in string_columns:\n",
    "    if column in maps:\n",
    "        df = mapping(df, maps[column], column, StringType)\n",
    "    else:\n",
    "        print(column)"
   ]
  },
  {
   "cell_type": "code",
   "execution_count": 41,
   "id": "c4602045-dcff-4604-8534-bb2cd489edc9",
   "metadata": {},
   "outputs": [],
   "source": [
    "gestor_columns = df.columns"
   ]
  },
  {
   "cell_type": "code",
   "execution_count": 76,
   "id": "40c84873-10f9-4bc6-8cc2-286fac724832",
   "metadata": {},
   "outputs": [],
   "source": [
    "t = [column for column in turmas_columns if column in gestor_columns + docentes_columns + matriculas_columns + escolas_columns] "
   ]
  },
  {
   "cell_type": "code",
   "execution_count": 73,
   "id": "832aab85-bce1-4d7a-b5d0-22ee86c8a80f",
   "metadata": {},
   "outputs": [],
   "source": [
    "m = [column for column in matriculas_columns if column in gestor_columns + docentes_columns + escolas_columns + turmas_columns] "
   ]
  },
  {
   "cell_type": "code",
   "execution_count": 84,
   "id": "d62a2339-8b46-4bc8-bc31-4800bbe45d6d",
   "metadata": {},
   "outputs": [],
   "source": [
    "turmas_em_matricula = [column for column in matriculas_columns if column in turmas_columns]"
   ]
  },
  {
   "cell_type": "code",
   "execution_count": 85,
   "id": "16e51612-acd9-41ca-a703-be436fbed3f9",
   "metadata": {},
   "outputs": [],
   "source": [
    "escolas_em_matricula = [column for column in matriculas_columns if column in escolas_columns]"
   ]
  },
  {
   "cell_type": "code",
   "execution_count": 104,
   "id": "0e58056a-fc5f-4031-9bea-158ffb68514a",
   "metadata": {},
   "outputs": [],
   "source": [
    "escolas_ou_turmas_em_matricula =  list(set(escolas_em_matricula + turmas_em_matricula))"
   ]
  },
  {
   "cell_type": "code",
   "execution_count": 96,
   "id": "9ff3ac61-5e6e-4ab5-ba5a-3afb65024edb",
   "metadata": {},
   "outputs": [],
   "source": [
    "escolas_em_turmas =  [column for column in turmas_columns if column in escolas_columns]"
   ]
  },
  {
   "cell_type": "code",
   "execution_count": 97,
   "id": "d05bdbae-b68c-45bd-b5ea-64c570e2baaa",
   "metadata": {},
   "outputs": [
    {
     "data": {
      "text/plain": [
       "['NU_ANO_CENSO',\n",
       " 'IN_ESPECIAL_EXCLUSIVA',\n",
       " 'IN_REGULAR',\n",
       " 'IN_EJA',\n",
       " 'IN_PROFISSIONALIZANTE',\n",
       " 'CO_ENTIDADE',\n",
       " 'CO_REGIAO',\n",
       " 'CO_MESORREGIAO',\n",
       " 'CO_MICRORREGIAO',\n",
       " 'CO_UF',\n",
       " 'CO_MUNICIPIO',\n",
       " 'CO_DISTRITO',\n",
       " 'TP_DEPENDENCIA',\n",
       " 'TP_LOCALIZACAO',\n",
       " 'TP_CATEGORIA_ESCOLA_PRIVADA',\n",
       " 'IN_CONVENIADA_PP',\n",
       " 'TP_CONVENIO_PODER_PUBLICO',\n",
       " 'IN_MANT_ESCOLA_PRIVADA_EMP',\n",
       " 'IN_MANT_ESCOLA_PRIVADA_ONG',\n",
       " 'IN_MANT_ESCOLA_PRIVADA_OSCIP',\n",
       " 'IN_MANT_ESCOLA_PRIV_ONG_OSCIP',\n",
       " 'IN_MANT_ESCOLA_PRIVADA_SIND',\n",
       " 'IN_MANT_ESCOLA_PRIVADA_SIST_S',\n",
       " 'IN_MANT_ESCOLA_PRIVADA_S_FINS',\n",
       " 'TP_REGULAMENTACAO',\n",
       " 'TP_LOCALIZACAO_DIFERENCIADA',\n",
       " 'IN_EDUCACAO_INDIGENA']"
      ]
     },
     "execution_count": 97,
     "metadata": {},
     "output_type": "execute_result"
    }
   ],
   "source": [
    "escolas_em_turmas"
   ]
  },
  {
   "cell_type": "code",
   "execution_count": 90,
   "id": "a9ce0116-ccb2-4d65-9551-1f2b394ef7f5",
   "metadata": {},
   "outputs": [],
   "source": [
    "escolas_em_gestor =  [column for column in gestor_columns if column in escolas_columns]"
   ]
  },
  {
   "cell_type": "code",
   "execution_count": 105,
   "id": "9b826f02-8ea0-4ac1-81e6-aa610e7d9abc",
   "metadata": {},
   "outputs": [],
   "source": [
    "a = list(set(escolas_em_turmas).union(escolas_em_gestor))"
   ]
  },
  {
   "cell_type": "code",
   "execution_count": 108,
   "id": "764fd245-bb85-4b45-b372-8e5c90cc5b05",
   "metadata": {},
   "outputs": [
    {
     "data": {
      "text/plain": [
       "['CO_UF',\n",
       " 'IN_MANT_ESCOLA_PRIVADA_ONG',\n",
       " 'TP_TIPO_ATENDIMENTO_TURMA',\n",
       " 'TP_ETAPA_ENSINO',\n",
       " 'IN_CONVENIADA_PP',\n",
       " 'IN_ESPECIAL_EXCLUSIVA',\n",
       " 'TP_CATEGORIA_ESCOLA_PRIVADA',\n",
       " 'IN_MANT_ESCOLA_PRIVADA_S_FINS',\n",
       " 'CO_DISTRITO',\n",
       " 'IN_EJA',\n",
       " 'ID_TURMA',\n",
       " 'TP_LOCALIZACAO_DIFERENCIADA',\n",
       " 'TP_TIPO_LOCAL_TURMA',\n",
       " 'CO_REGIAO',\n",
       " 'CO_MESORREGIAO',\n",
       " 'IN_MANT_ESCOLA_PRIVADA_EMP',\n",
       " 'IN_MANT_ESCOLA_PRIVADA_SIND',\n",
       " 'TP_REGULAMENTACAO',\n",
       " 'TP_MEDIACAO_DIDATICO_PEDAGO',\n",
       " 'NU_ANO_CENSO',\n",
       " 'CO_MUNICIPIO',\n",
       " 'CO_ENTIDADE',\n",
       " 'NU_DIAS_ATIVIDADE',\n",
       " 'IN_MANT_ESCOLA_PRIVADA_OSCIP',\n",
       " 'IN_MANT_ESCOLA_PRIV_ONG_OSCIP',\n",
       " 'IN_MANT_ESCOLA_PRIVADA_SIST_S',\n",
       " 'IN_EDUCACAO_INDIGENA',\n",
       " 'CO_MICRORREGIAO',\n",
       " 'TP_DEPENDENCIA',\n",
       " 'CO_CURSO_EDUC_PROFISSIONAL',\n",
       " 'IN_REGULAR',\n",
       " 'TP_CONVENIO_PODER_PUBLICO',\n",
       " 'TP_LOCALIZACAO',\n",
       " 'NU_DURACAO_TURMA',\n",
       " 'IN_PROFISSIONALIZANTE']"
      ]
     },
     "execution_count": 108,
     "metadata": {},
     "output_type": "execute_result"
    }
   ],
   "source": [
    "list(set(escolas_ou_turmas_em_matricula).union(set(a)))"
   ]
  },
  {
   "cell_type": "code",
   "execution_count": null,
   "id": "2259230e-cc98-4c17-b7f6-990bfbffec76",
   "metadata": {},
   "outputs": [],
   "source": []
  }
 ],
 "metadata": {
  "kernelspec": {
   "display_name": "PySpark",
   "language": "python",
   "name": "pyspark"
  },
  "language_info": {
   "codemirror_mode": {
    "name": "ipython",
    "version": 3
   },
   "file_extension": ".py",
   "mimetype": "text/x-python",
   "name": "python",
   "nbconvert_exporter": "python",
   "pygments_lexer": "ipython3",
   "version": "3.8.10"
  }
 },
 "nbformat": 4,
 "nbformat_minor": 5
}