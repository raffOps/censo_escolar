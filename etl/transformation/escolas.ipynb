{
 "cells": [
  {
   "cell_type": "code",
   "execution_count": 137,
   "metadata": {},
   "outputs": [],
   "source": [
    "import json\n",
    "import pickle\n",
    "from datetime import datetime\n",
    "from pyspark.sql import SparkSession\n",
    "from pyspark.sql.types import *\n",
    "from pyspark.sql.functions import (\n",
    "    col, udf, to_timestamp)\n",
    "\n",
    "from google.cloud import storage\n"
   ]
  },
  {
   "cell_type": "code",
   "execution_count": 290,
   "metadata": {},
   "outputs": [],
   "source": [
    "def load_json(filename):\n",
    "    bucket = storage.Client().get_bucket(\"rjr-portal-da-transparencia\")\n",
    "    blob = bucket.blob(f'aux_tables/{filename}.json')\n",
    "    maps = json.loads(blob.download_as_string())\n",
    "    return maps\n",
    "\n",
    "\n",
    "def mapping(df, map_, column, type_return):\n",
    "    map_func = udf(lambda key: map_.get(str(key)), type_return())\n",
    "    df = df.withColumn(column, map_func(col(column)))\n",
    "    return df\n",
    "\n",
    "def string_to_date(df, column):\n",
    "    map_func =  udf (lambda x: datetime.strptime(x, '%d/%m/%Y') \n",
    "                     if type(x) == str \n",
    "                     else None, DateType())\n",
    "    df = df.withColumn(column, map_func(col(column)))\n",
    "    return df"
   ]
  },
  {
   "cell_type": "code",
   "execution_count": 270,
   "metadata": {},
   "outputs": [],
   "source": [
    "spark = SparkSession.builder.appName(\"censo\").getOrCreate()\n",
    "spark.conf.set(\"spark.sql.repl.eagerEval.enabled\", True)"
   ]
  },
  {
   "cell_type": "code",
   "execution_count": 324,
   "metadata": {},
   "outputs": [],
   "source": [
    "schema = load_json(\"escola_schema\")\n",
    "schema = StructType.fromJson(json.loads(json.dumps(schema)))\n",
    "df = spark \\\n",
    "    .read \\\n",
    "    .options(header=True, delimiter=\"|\", encoding=\"utf8\") \\\n",
    "    .schema(schema) \\\n",
    "    .csv(\"gs://rjr-portal-da-transparencia/landing_zone/censo-escolar/2012/ESCOLAS.csv\" )"
   ]
  },
  {
   "cell_type": "code",
   "execution_count": 326,
   "metadata": {},
   "outputs": [
    {
     "name": "stdout",
     "output_type": "stream",
     "text": [
      "Map not found: CO_ENTIDADE\n",
      "Map not found: CO_ORGAO_REGIONAL\n",
      "Map not found: CO_DISTRITO\n",
      "Map not found: CO_ESCOLA_SEDE_VINCULADA\n",
      "Map not found: CO_IES_OFERTANTE\n",
      "Map not found: CO_LINGUA_INDIGENA_1\n",
      "Map not found: CO_LINGUA_INDIGENA_2\n",
      "Map not found: CO_LINGUA_INDIGENA_3\n"
     ]
    }
   ],
   "source": [
    "maps = load_json(\"maps\")\n",
    "string_columns = [column for column in df.columns \n",
    "                  if column.startswith(\"TP\") or column.startswith(\"CO\")]\n",
    "\n",
    "for column in string_columns:\n",
    "    if column in maps:\n",
    "        df = mapping(df, maps[column], column, StringType)\n",
    "    else:\n",
    "        print(f\"Map not found: {column}\")"
   ]
  },
  {
   "cell_type": "code",
   "execution_count": 327,
   "metadata": {},
   "outputs": [],
   "source": [
    "mapping_bool = {\n",
    "    0: False,\n",
    "    1: True,\n",
    "    \"0\": False,\n",
    "    \"1\": True\n",
    "}\n",
    "\n",
    "boolean_columns = [column for column in df.columns \n",
    "                   if column.startswith(\"IN\") or column.startswith(\"ID\")]\n",
    "\n",
    "for column in boolean_columns:\n",
    "    df = mapping(df, mapping_bool, column, BooleanType)"
   ]
  },
  {
   "cell_type": "code",
   "execution_count": 328,
   "metadata": {},
   "outputs": [],
   "source": [
    "df = string_to_date(df, \"DT_ANO_LETIVO_INICIO\")\n",
    "df = string_to_date(df, \"DT_ANO_LETIVO_TERMINO\")"
   ]
  },
  {
   "cell_type": "code",
   "execution_count": null,
   "metadata": {},
   "outputs": [],
   "source": []
  }
 ],
 "metadata": {
  "kernelspec": {
   "display_name": "PySpark",
   "language": "python",
   "name": "pyspark"
  },
  "language_info": {
   "codemirror_mode": {
    "name": "ipython",
    "version": 3
   },
   "file_extension": ".py",
   "mimetype": "text/x-python",
   "name": "python",
   "nbconvert_exporter": "python",
   "pygments_lexer": "ipython3",
   "version": "3.8.10"
  }
 },
 "nbformat": 4,
 "nbformat_minor": 4
}