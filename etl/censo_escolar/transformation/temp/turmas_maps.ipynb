{
 "cells": [
  {
   "cell_type": "code",
   "execution_count": 2,
   "id": "ce0922f0",
   "metadata": {},
   "outputs": [],
   "source": [
    "import json\n",
    "from datetime import datetime\n",
    "import pandas as pd\n",
    "from google.cloud import storage"
   ]
  },
  {
   "cell_type": "code",
   "execution_count": 3,
   "id": "85626992",
   "metadata": {},
   "outputs": [],
   "source": [
    "BUCKET = \"rjr-portal-da-transparencia\""
   ]
  },
  {
   "cell_type": "code",
   "execution_count": 4,
   "id": "8b58b342-1769-4829-a6e8-d464215465f2",
   "metadata": {},
   "outputs": [],
   "source": [
    "client = storage.Client()\n",
    "bucket = client.get_bucket(BUCKET)"
   ]
  },
  {
   "cell_type": "code",
   "execution_count": 5,
   "id": "d41f4f08-4ecb-4c3c-9fa9-e25b523ca648",
   "metadata": {},
   "outputs": [],
   "source": [
    "def save_maps(name, maps):\n",
    "    with open(f'{name}_maps.json', 'w', encoding='utf-8') as file:\n",
    "        json.dump(maps, file, ensure_ascii=False)\n",
    "\n",
    "    blob = bucket.blob(f\"aux_tables/{name}_maps.json\")\n",
    "    blob = blob.upload_from_filename(f'{name}_maps.json')"
   ]
  },
  {
   "cell_type": "code",
   "execution_count": 6,
   "id": "7728970c",
   "metadata": {},
   "outputs": [],
   "source": [
    "maps = {}\n",
    "\n",
    "maps[\"TP_MEDIACAO_DIDATICO_PEDAGO\"] = {\n",
    "    1: \"Presencial\",\n",
    "    2: \"Semipresencial\",\n",
    "    3: \"Educação a Distância - EAD\"\n",
    "}\n",
    "\n",
    "maps[\"TP_TIPO_ATENDIMENTO_TURMA\"] = {\n",
    "    1: \"Exclusivo Escolarização\", \n",
    "    2: \"Escolarização e Atividade complementar\",\n",
    "    3: \"Atividade complementar\",\n",
    "    4: \"Atendimento Educacional Especializado (AEE)\"\n",
    "}\n",
    "\n",
    "maps[\"TP_TIPO_LOCAL_TURMA\"] = {\n",
    "    0: \"A turma não está em local de funcionamento diferenciado\",\n",
    "    1: \"Sala anexa\",\n",
    "    2: \"Unidade de atendimento socioeducativo\",\n",
    "    3: \"Unidade prisional\"\n",
    "}\n",
    "\n",
    "maps[\"TP_UNIFICADA\"] = {\n",
    "    0: \"Não\",\n",
    "    1: \"Unificada\",\n",
    "    2: \"Multietapa\",\n",
    "    3: \"Multi\",\n",
    "    4: \"Correção de fluxo\",\n",
    "    5: \"Mista (Concomitante e Subsequente)\"\n",
    "}"
   ]
  },
  {
   "cell_type": "code",
   "execution_count": 7,
   "id": "09e250fd",
   "metadata": {},
   "outputs": [],
   "source": [
    "maps[\"TP_ETAPA_ENSINO\"] = {\n",
    "    1: \"Educação Infantil - Creche\",\n",
    "    2: \"Educação Infantil - Pré-escola\",\n",
    "    3: \"Educação Infantil - Unificada\",\n",
    "    56: \"Educação Infantil e Ensino Fundamental (9 anos) Multietapa\",\n",
    "    4: \"Ensino Fundamental de 8 anos - 1ª Série\",\n",
    "    5: \"Ensino Fundamental de 8 anos - 2ª Série\",\n",
    "    6: \"Ensino Fundamental de 8 anos - 3ª Série\",\n",
    "    7: \"Ensino Fundamental de 8 anos - 4ª Série\",\n",
    "    8: \"Ensino Fundamental de 8 anos - 5ª Série\",\n",
    "    9: \"Ensino Fundamental de 8 anos - 6ª Série\",\n",
    "    10: \"Ensino Fundamental de 8 anos - 7ª Série\",\n",
    "    11: \"Ensino Fundamental de 8 anos - 8ª Série\",\n",
    "    12: \"Ensino Fundamental de 8 anos - Multi\",\n",
    "    13: \"Ensino Fundamental de 8 anos - Correção de Fluxo\",\n",
    "    14: \"Ensino Fundamental de 9 anos - 1º Ano\",\n",
    "    15: \"Ensino Fundamental de 9 anos - 2º Ano\",\n",
    "    16: \"Ensino Fundamental de 9 anos - 3º Ano\",\n",
    "    17: \"Ensino Fundamental de 9 anos - 4º Ano\",\n",
    "    18: \"Ensino Fundamental de 9 anos - 5º Ano\",\n",
    "    19: \"Ensino Fundamental de 9 anos - 6º Ano\",\n",
    "    20: \"Ensino Fundamental de 9 anos - 7º Ano\",\n",
    "    21: \"Ensino Fundamental de 9 anos - 8º Ano\",\n",
    "    41: \"Ensino Fundamental de 9 anos - 9º Ano\",\n",
    "    22: \"Ensino Fundamental de 9 anos - Multi\",\n",
    "    23: \"Ensino Fundamental de 9 anos - Correção de Fluxo\",\n",
    "    24: \"Ensino Fundamental de 8 e 9 anos - Multi 8 e 9 anos\",\n",
    "    25: \"Ensino Médio - 1º ano/1ª Série\",\n",
    "    26: \"Ensino Médio - 2º ano/2ª Série\",\n",
    "    27: \"Ensino Médio - 3ºano/3ª Série\",\n",
    "    28: \"Ensino Médio - 4º ano/4ª Série\",\n",
    "    29: \"Ensino Médio - Não Seriada\",\n",
    "    30: \"Curso Técnico Integrado (Ensino Médio Integrado) 1ª Série\",\n",
    "    31: \"Curso Técnico Integrado (Ensino Médio Integrado) 2ª Série\",\n",
    "    32: \"Curso Técnico Integrado (Ensino Médio Integrado) 3ª Série\",\n",
    "    33: \"Curso Técnico Integrado (Ensino Médio Integrado) 4ª Série\",\n",
    "    34: \"Curso Técnico Integrado (Ensino Médio Integrado) Não Seriada\",\n",
    "    35: \"Ensino Médio - Modalidade Normal/Magistério 1ª Série\",\n",
    "    36: \"Ensino Médio - Modalidade Normal/Magistério 2ª Série\",\n",
    "    37: \"Ensino Médio - Modalidade Normal/Magistério 3ª Série\",\n",
    "    38: \"Ensino Médio - Modalidade Normal/Magistério 4ª Série\",\n",
    "    39: \"Curso Técnico - Concomitante\",\n",
    "    40: \"Curso Técnico - Subsequente\",\n",
    "    64: \"Curso Técnico Misto (Concomitante e Subsequente)\",\n",
    "    65: \"EJA - Ensino Fundamental - Projovem Urbano\",\n",
    "    67: \"Curso FIC integrado na modalidade EJA  - Nível Médio\",\n",
    "    68: \"Curso FIC Concomitante\",\n",
    "    69: \"EJA - Ensino Fundamental - Anos Iniciais\",\n",
    "    70: \"EJA - Ensino Fundamental - Anos Finais\",\n",
    "    71: \"EJA - Ensino Médio\",\n",
    "    72: \"EJA - Ensino Fundamental - Anos Iniciais e Anos Finais\",\n",
    "    73: \"Curso FIC integrado na modalidade EJA - Nível Fundamental (EJA integrada à Educação Profissional de Nível Fundamental)\",\n",
    "    74: \"Curso Técnico Integrado na Modalidade EJA (EJA integrada à Educação Profissional de Nível Médio)\"\n",
    "}"
   ]
  },
  {
   "cell_type": "code",
   "execution_count": 1,
   "id": "6794cdbf",
   "metadata": {},
   "outputs": [
    {
     "ename": "NameError",
     "evalue": "name 'pd' is not defined",
     "output_type": "error",
     "traceback": [
      "\u001b[0;31m---------------------------------------------------------------------------\u001b[0m",
      "\u001b[0;31mNameError\u001b[0m                                 Traceback (most recent call last)",
      "\u001b[0;32m/tmp/ipykernel_12632/3576409649.py\u001b[0m in \u001b[0;36m<module>\u001b[0;34m\u001b[0m\n\u001b[1;32m      1\u001b[0m \u001b[0mtables\u001b[0m \u001b[0;34m=\u001b[0m \u001b[0;34m[\u001b[0m\u001b[0;34m\"CO_CURSO_EDUC_PROFISSIONAL\"\u001b[0m\u001b[0;34m,\u001b[0m \u001b[0;34m\"CO_ORGAO_REGIONAL\"\u001b[0m\u001b[0;34m,\u001b[0m \u001b[0;34m\"CO_TIPO_ATIVIDADE\"\u001b[0m\u001b[0;34m]\u001b[0m\u001b[0;34m\u001b[0m\u001b[0;34m\u001b[0m\u001b[0m\n\u001b[1;32m      2\u001b[0m \u001b[0;32mfor\u001b[0m \u001b[0mtable\u001b[0m \u001b[0;32min\u001b[0m \u001b[0mtables\u001b[0m\u001b[0;34m:\u001b[0m\u001b[0;34m\u001b[0m\u001b[0;34m\u001b[0m\u001b[0m\n\u001b[0;32m----> 3\u001b[0;31m     df_ = pd.read_csv(f\"gs://rjr-portal-da-transparencia/aux_tables/{table}.csv\", \n\u001b[0m\u001b[1;32m      4\u001b[0m                  engine=\"python\", sep=',', quotechar='\"', header=0, usecols=[0,1], encoding=\"utf8\")\n\u001b[1;32m      5\u001b[0m     \u001b[0mmaps\u001b[0m\u001b[0;34m[\u001b[0m\u001b[0mtable\u001b[0m\u001b[0;34m]\u001b[0m \u001b[0;34m=\u001b[0m \u001b[0mdict\u001b[0m\u001b[0;34m(\u001b[0m\u001b[0mdf_\u001b[0m\u001b[0;34m.\u001b[0m\u001b[0mvalues\u001b[0m\u001b[0;34m)\u001b[0m\u001b[0;34m\u001b[0m\u001b[0;34m\u001b[0m\u001b[0m\n",
      "\u001b[0;31mNameError\u001b[0m: name 'pd' is not defined"
     ]
    }
   ],
   "source": [
    "tables = [\"CO_CURSO_EDUC_PROFISSIONAL\", \"CO_ORGAO_REGIONAL\", \"CO_TIPO_ATIVIDADE\"]\n",
    "for table in tables:\n",
    "    df_ = pd.read_csv(f\"gs://rjr-portal-da-transparencia/aux_tables/{table}.csv\", \n",
    "                 engine=\"python\", sep=',', quotechar='\"', header=0, usecols=[0,1], encoding=\"utf8\")\n",
    "    maps[table] = dict(df_.values)\n",
    "    \n",
    "for index in range(1, 7):\n",
    "    df_ = pd.read_csv(\"gs://gs://rjr-portal-da-transparencia/aux_tables/CO_TIPO_ATIVIDADE.csv\")\n",
    "    maps[f\"CO_TIPO_ATIVIDADE_{index}\"] = dict(df_.values.tolist())"
   ]
  },
  {
   "cell_type": "code",
   "execution_count": 13,
   "id": "96166190",
   "metadata": {},
   "outputs": [],
   "source": [
    "save_maps(\"turmas\", maps)"
   ]
  },
  {
   "cell_type": "code",
   "execution_count": null,
   "id": "4adec622-fc6f-4f61-ac0e-015ab736c405",
   "metadata": {},
   "outputs": [],
   "source": []
  }
 ],
 "metadata": {
  "kernelspec": {
   "display_name": "PySpark",
   "language": "python",
   "name": "pyspark"
  },
  "language_info": {
   "codemirror_mode": {
    "name": "ipython",
    "version": 3
   },
   "file_extension": ".py",
   "mimetype": "text/x-python",
   "name": "python",
   "nbconvert_exporter": "python",
   "pygments_lexer": "ipython3",
   "version": "3.8.10"
  }
 },
 "nbformat": 4,
 "nbformat_minor": 5
}