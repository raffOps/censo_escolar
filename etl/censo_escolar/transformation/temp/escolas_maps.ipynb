{
 "cells": [
  {
   "cell_type": "code",
   "execution_count": 19,
   "metadata": {},
   "outputs": [],
   "source": [
    "import pandas as pd\n",
    "import json\n",
    "from google.cloud import storage"
   ]
  },
  {
   "cell_type": "code",
   "execution_count": 20,
   "metadata": {},
   "outputs": [],
   "source": [
    "BUCKET = \"rjr-portal-da-transparencia\""
   ]
  },
  {
   "cell_type": "code",
   "execution_count": 21,
   "metadata": {},
   "outputs": [],
   "source": [
    "client = storage.Client()\n",
    "bucket = client.get_bucket(BUCKET)"
   ]
  },
  {
   "cell_type": "code",
   "execution_count": 22,
   "metadata": {},
   "outputs": [],
   "source": [
    "def save_maps(name, maps):\n",
    "    with open(f'{name}_maps.json', 'w', encoding='utf-8') as file:\n",
    "        json.dump(maps, file, ensure_ascii=False)\n",
    "\n",
    "    blob = bucket.blob(f\"aux_tables/{name}_maps.json\")\n",
    "    blob = blob.upload_from_filename(f'{name}_maps.json')"
   ]
  },
  {
   "cell_type": "code",
   "execution_count": 23,
   "metadata": {},
   "outputs": [],
   "source": [
    "maps = {}\n",
    "\n",
    "maps[\"TP_SITUACAO_FUNCIONAMENTO\"] = {\n",
    "    1: \"Em Atividade\",\n",
    "    2: \"Paralisada\",\n",
    "    3: \"Extinta (ano do censo)\",\n",
    "    4: \"Extinta em anos anteriores\"\n",
    "}\n",
    "\n",
    "maps[\"TP_DEPENDENCIA\"] = {\n",
    "    1: \"Federal\",\n",
    "    2: \"Estadual\",\n",
    "    3: \"Municipal\",\n",
    "    4: \"Privada\"\n",
    "}\n",
    "\n",
    "\n",
    "maps[\"TP_LOCALIZACAO\"] = {\n",
    "    1: \"Urbana\",\n",
    "    2: \"Rural\"\n",
    "}\n",
    "\n",
    "maps[\"TP_LOCALIZACAO_DIFERENCIADA\"] = {\n",
    "    0: \"A escola não está em área de localização diferenciada\",\n",
    "    1: \"Área de assentamento\",\n",
    "    2: \"Terra indígena\",\n",
    "    3: \"Área onde se localiza comunidade remanescente de quilombos\"\n",
    "}\n",
    "\n",
    "maps[\"TP_CATEGORIA_ESCOLA_PRIVADA\"] = {\n",
    "    1: \"Particular\",\n",
    "    2: \"Comunitária\",\n",
    "    3: \"Confessional\",\n",
    "    4: \"Filantrópica\"\n",
    "}\n",
    "\n",
    "maps[\"TP_CONVENIO_PODER_PUBLICO\"] = {\n",
    "    1: \"Municipal\",\n",
    "    2: \"Estadual\",\n",
    "    3: \"Estadual e Municipal\",\n",
    "}\n",
    "\n",
    "maps[\"TP_REGULAMENTACAO\"] = {\n",
    "    0: \"Não\",\n",
    "    1: \"Sim\", \n",
    "    2: \"Em tramitação\"\n",
    "}\n",
    "\n",
    "\n",
    "maps[\"TP_RESPONSAVEL_REGULAMENTACAO\"] = {\n",
    "    1: \"Federal\",\n",
    "    2: \"Estadual\",\n",
    "    3: \"Municipal\",\n",
    "    4: \"Estadual e Municipal\",\n",
    "    5: \"Federal e Estadual\",\n",
    "    6: \"Federal, Estadual e Municipal\"\n",
    "}\n",
    "\n",
    "maps[\"TP_OCUPACAO_PREDIO_ESCOLAR\"] = {\n",
    "    1: \"Próprio\",\n",
    "    2: \"Alugado\",\n",
    "    3: \"Cedido\"\n",
    "}\n",
    "\n",
    "maps[\"TP_REDE_LOCAL\"] = {\n",
    "    0: \"Não há rede local interligando computadores\",\n",
    "    1: \"A cabo\",\n",
    "    2: \"Wireless\",\n",
    "    3: \"A cabo e Wireless\"\n",
    "}\n",
    "\n",
    "\n",
    "maps[\"TP_INDIGENA_LINGUA\"] = {\n",
    "    1: \"Somente em Língua Indígena\",\n",
    "    2: \"Somente em Língua Portuguesa\",\n",
    "    3: \"Em Língua Indígena e em Língua Portuguesa\"\n",
    "}\n",
    "\n",
    "maps[\"TP_PROPOSTA_PEDAGOGICA\"] = {\n",
    "    0: \"Não\",\n",
    "    1: \"Sim\",\n",
    "    2: \"A escola não possui projeto político pedagógico/proposta pedagógica\"\n",
    "}\n",
    "\n",
    "maps[\"TP_AEE\"] = {\n",
    "    0: \"Não oferece\",\n",
    "    1: \"Não exclusivamente\",\n",
    "    2: \"Exclusivamente\"\n",
    "}\n",
    "\n",
    "maps[\"TP_ATIVIDADE_COMPLEMENTAR\"] = {\n",
    "    0: \"Não oferece\",\n",
    "    1: \"Não exclusivamente\",\n",
    "    2: \"Exclusivamente\"\n",
    "}\n",
    "\n",
    "maps[\"TP_OCUPACAO_GALPAO\"] = {\n",
    "    1: \"Próprio\",\n",
    "    2: \"Alugado\",\n",
    "    3: \"Cedido\"\n",
    "}"
   ]
  },
  {
   "cell_type": "code",
   "execution_count": 30,
   "metadata": {},
   "outputs": [],
   "source": [
    "maps[\"CO_LINGUA_INDIGENA_1\"] = dict(pd.read_csv(f\"gs://{BUCKET}/aux_tables/CO_LINGUA_INDIGENA.csv\",\n",
    "                                               dtype={\"Cód. Atual\": str, \"Língua de identificação\": str}).values.tolist())\n",
    "maps[\"CO_LINGUA_INDIGENA_2\"] = maps[\"CO_LINGUA_INDIGENA_3\"] = maps[\"CO_LINGUA_INDIGENA_1\"]"
   ]
  },
  {
   "cell_type": "code",
   "execution_count": 31,
   "metadata": {},
   "outputs": [],
   "source": [
    "save_maps(\"escolas\", maps)"
   ]
  },
  {
   "cell_type": "code",
   "execution_count": null,
   "metadata": {},
   "outputs": [],
   "source": []
  }
 ],
 "metadata": {
  "kernelspec": {
   "display_name": "Python 3",
   "language": "python",
   "name": "python3"
  },
  "language_info": {
   "codemirror_mode": {
    "name": "ipython",
    "version": 3
   },
   "file_extension": ".py",
   "mimetype": "text/x-python",
   "name": "python",
   "nbconvert_exporter": "python",
   "pygments_lexer": "ipython3",
   "version": "3.8.10"
  }
 },
 "nbformat": 4,
 "nbformat_minor": 4
}